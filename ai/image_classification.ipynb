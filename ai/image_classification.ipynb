{
  "nbformat": 4,
  "nbformat_minor": 0,
  "metadata": {
    "colab": {
      "name": "image_classification.ipynb",
      "provenance": [],
      "collapsed_sections": []
    },
    "kernelspec": {
      "name": "python3",
      "display_name": "Python 3"
    },
    "language_info": {
      "name": "python"
    }
  },
  "cells": [
    {
      "cell_type": "code",
      "metadata": {
        "colab": {
          "base_uri": "https://localhost:8080/"
        },
        "id": "l_De6Ka2XY8Z",
        "outputId": "b40d99ab-fa88-4d22-eabc-1c656dc80118"
      },
      "source": [
        "# チュートリアルをなぞったレベルです。\n",
        "\n",
        "!python --version"
      ],
      "execution_count": null,
      "outputs": [
        {
          "output_type": "stream",
          "text": [
            "Python 3.7.10\n"
          ],
          "name": "stdout"
        }
      ]
    },
    {
      "cell_type": "code",
      "metadata": {
        "colab": {
          "base_uri": "https://localhost:8080/"
        },
        "id": "60M1Wf_aXxTc",
        "outputId": "71454a98-f815-4329-b3f1-03884095052f"
      },
      "source": [
        "from keras.datasets import cifar10\n",
        "from keras.models import Sequential\n",
        "from keras.layers import Dense, Dropout, Activation, Conv2D, MaxPooling2D, Flatten\n",
        "from keras.optimizers import Adam\n",
        "\n",
        "(x_train, y_train), (x_test, y_test) = cifar10.load_data()"
      ],
      "execution_count": null,
      "outputs": [
        {
          "output_type": "stream",
          "text": [
            "Downloading data from https://www.cs.toronto.edu/~kriz/cifar-10-python.tar.gz\n",
            "170500096/170498071 [==============================] - 2s 0us/step\n"
          ],
          "name": "stdout"
        }
      ]
    },
    {
      "cell_type": "code",
      "metadata": {
        "id": "mwuNekamssbw"
      },
      "source": [
        "x_train = x_train.astype('float32') / 255\n",
        "x_test = x_test.astype('float32') / 255"
      ],
      "execution_count": null,
      "outputs": []
    },
    {
      "cell_type": "code",
      "metadata": {
        "id": "WiAZypnlswiq"
      },
      "source": [
        "from keras.utils.np_utils import to_categorical\n",
        "y_train = to_categorical(y_train, 10)\n",
        "y_test = to_categorical(y_test, 10)"
      ],
      "execution_count": null,
      "outputs": []
    },
    {
      "cell_type": "code",
      "metadata": {
        "id": "umNbOnZNs1ph"
      },
      "source": [
        "model = Sequential()\n",
        "\n",
        "# 1層目\n",
        "model.add(Conv2D(32, kernel_size=(3, 3), activation='relu', padding='same', input_shape=(32,32,3)))\n",
        "model.add(Conv2D(32, kernel_size=(3, 3), activation='relu'))\n",
        "model.add(MaxPooling2D(pool_size=(2, 2)))\n",
        "model.add(Dropout(0.25))\n",
        "\n",
        "# 2層目\n",
        "model.add(Conv2D(64, kernel_size=(3, 3), activation='relu', padding='same'))\n",
        "model.add(Conv2D(64, kernel_size=(3, 3), activation='relu'))\n",
        "model.add(MaxPooling2D(pool_size=(2, 2)))\n",
        "model.add(Dropout(0.25))\n",
        "\n",
        "# 出力層\n",
        "model.add(Flatten())\n",
        "model.add(Dense(512))\n",
        "model.add(Activation('relu'))\n",
        "model.add(Dropout(0.5))\n",
        "model.add(Dense(10))\n",
        "model.add(Activation('softmax'))"
      ],
      "execution_count": null,
      "outputs": []
    },
    {
      "cell_type": "code",
      "metadata": {
        "colab": {
          "base_uri": "https://localhost:8080/"
        },
        "id": "rsKpo34xtCtC",
        "outputId": "1e2fdd63-d35b-4277-c533-26f63cf0c9ac"
      },
      "source": [
        "model.compile(\n",
        "loss='categorical_crossentropy', \n",
        "optimizer=Adam(lr=0.001), \n",
        "metrics=['accuracy'])\n",
        "fit = model.fit(x_train, y_train,\n",
        "              batch_size=128,\n",
        "              epochs=10,\n",
        "              verbose=1,\n",
        "              validation_split=0.1\n",
        "                )"
      ],
      "execution_count": null,
      "outputs": [
        {
          "output_type": "stream",
          "text": [
            "Epoch 1/10\n",
            "352/352 [==============================] - 191s 541ms/step - loss: 1.9291 - accuracy: 0.2799 - val_loss: 1.3076 - val_accuracy: 0.5334\n",
            "Epoch 2/10\n",
            "352/352 [==============================] - 190s 539ms/step - loss: 1.3279 - accuracy: 0.5193 - val_loss: 1.0546 - val_accuracy: 0.6312\n",
            "Epoch 3/10\n",
            "352/352 [==============================] - 190s 539ms/step - loss: 1.1270 - accuracy: 0.5988 - val_loss: 0.9489 - val_accuracy: 0.6666\n",
            "Epoch 4/10\n",
            "352/352 [==============================] - 190s 540ms/step - loss: 1.0065 - accuracy: 0.6416 - val_loss: 0.8721 - val_accuracy: 0.6940\n",
            "Epoch 5/10\n",
            "352/352 [==============================] - 189s 537ms/step - loss: 0.9091 - accuracy: 0.6827 - val_loss: 0.8255 - val_accuracy: 0.7160\n",
            "Epoch 6/10\n",
            "352/352 [==============================] - 190s 541ms/step - loss: 0.8608 - accuracy: 0.6997 - val_loss: 0.7726 - val_accuracy: 0.7352\n",
            "Epoch 7/10\n",
            "352/352 [==============================] - 190s 540ms/step - loss: 0.7982 - accuracy: 0.7210 - val_loss: 0.7191 - val_accuracy: 0.7556\n",
            "Epoch 8/10\n",
            "352/352 [==============================] - 190s 539ms/step - loss: 0.7494 - accuracy: 0.7388 - val_loss: 0.6855 - val_accuracy: 0.7684\n",
            "Epoch 9/10\n",
            "352/352 [==============================] - 190s 539ms/step - loss: 0.6981 - accuracy: 0.7549 - val_loss: 0.6872 - val_accuracy: 0.7672\n",
            "Epoch 10/10\n",
            "352/352 [==============================] - 190s 538ms/step - loss: 0.6721 - accuracy: 0.7635 - val_loss: 0.6524 - val_accuracy: 0.7768\n"
          ],
          "name": "stdout"
        }
      ]
    },
    {
      "cell_type": "code",
      "metadata": {
        "colab": {
          "base_uri": "https://localhost:8080/"
        },
        "id": "FYgUWncU06yn",
        "outputId": "679f616c-5d4b-40c4-853c-21bdcf55cbb0"
      },
      "source": [
        "score = model.evaluate(x_test, y_test,verbose=0)\n",
        "print('Test score:', score[0])\n",
        "print('Test accuracy:', score[1])"
      ],
      "execution_count": null,
      "outputs": [
        {
          "output_type": "stream",
          "text": [
            "Test score: 0.6904387474060059\n",
            "Test accuracy: 0.7592999935150146\n"
          ],
          "name": "stdout"
        }
      ]
    },
    {
      "cell_type": "code",
      "metadata": {
        "id": "xk-C8HaXHjHF"
      },
      "source": [
        "model.save('./image_classification.h5')"
      ],
      "execution_count": null,
      "outputs": []
    }
  ]
}